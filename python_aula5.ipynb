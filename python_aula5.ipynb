{
  "nbformat": 4,
  "nbformat_minor": 0,
  "metadata": {
    "colab": {
      "name": "python_aula5.ipynb",
      "provenance": [],
      "collapsed_sections": [],
      "toc_visible": true,
      "authorship_tag": "ABX9TyNB8WwLRaLtJ4y36XgdLYUD"
    },
    "kernelspec": {
      "name": "python3",
      "display_name": "Python 3"
    },
    "language_info": {
      "name": "python"
    }
  },
  "cells": [
    {
      "cell_type": "markdown",
      "metadata": {
        "id": "W0wZ3FWn443h"
      },
      "source": [
        "# **Condicionais (if-else)**\n",
        "\n",
        "\n"
      ]
    },
    {
      "cell_type": "markdown",
      "metadata": {
        "id": "wrvtRQ_qxYMn"
      },
      "source": [
        "## Exercícios"
      ]
    },
    {
      "cell_type": "markdown",
      "metadata": {
        "id": "f2EpyPaN8k41"
      },
      "source": [
        "### Exercício 1"
      ]
    },
    {
      "cell_type": "code",
      "metadata": {
        "id": "FH-ireIy4ysD"
      },
      "source": [
        "vlr = int(input(\"Insira o valor: \"))\n",
        "\n",
        "if vlr % 2 == 0:\n",
        "  print('O numero é par.')\n",
        "else:\n",
        "  print('O numero é impar.')\n"
      ],
      "execution_count": null,
      "outputs": []
    },
    {
      "cell_type": "markdown",
      "metadata": {
        "id": "6r2hYH_V8keb"
      },
      "source": [
        "### Exercício 2 - parte 1"
      ]
    },
    {
      "cell_type": "code",
      "metadata": {
        "id": "wufv6BP28qVD"
      },
      "source": [
        "vlr = int(input('Insira um valor: '))\n",
        "\n",
        "if vlr > 0:\n",
        "  print('O valor é positivo.')\n",
        "else:\n",
        "  print('O valor é negativo.')"
      ],
      "execution_count": null,
      "outputs": []
    },
    {
      "cell_type": "markdown",
      "metadata": {
        "id": "4OEhgWq49D4L"
      },
      "source": [
        "### Exercício 2 - parte 2"
      ]
    },
    {
      "cell_type": "code",
      "metadata": {
        "id": "s03MUHfM9SAq"
      },
      "source": [
        "vlr = int(input('Insira um valor: '))\n",
        "\n",
        "if vlr != 0:\n",
        "  if vlr > 0:\n",
        "    print('O valor é positivo.')\n",
        "  else:\n",
        "    print('O valor é negativo.')\n",
        "else:\n",
        "  print('O valor não pode ser 0, seu(a) feio(a).')"
      ],
      "execution_count": null,
      "outputs": []
    },
    {
      "cell_type": "markdown",
      "metadata": {
        "id": "_0v09a1JGN_f"
      },
      "source": [
        "### Exercício 3"
      ]
    },
    {
      "cell_type": "code",
      "metadata": {
        "id": "I226rvPbGUeA"
      },
      "source": [
        "v1 = int(input('Insira um número: '))\n",
        "v2 = int(input('Insira outro número: '))\n",
        "\n",
        "if v1 == v2:\n",
        "  print('Não pode ser números iguais, seu(a) feio(a).')\n",
        "else:\n",
        "  if v1 > v2:\n",
        "    print(f'O primeiro valor digitado ({v1}) é o maior.')\n",
        "  else:\n",
        "    print(f'O segundo valor digitado ({v2}) é o maior.')"
      ],
      "execution_count": null,
      "outputs": []
    },
    {
      "cell_type": "markdown",
      "metadata": {
        "id": "lfp0Dib8Hbqe"
      },
      "source": [
        "### Exercício 4"
      ]
    },
    {
      "cell_type": "code",
      "metadata": {
        "id": "0QhSheqjHf_N"
      },
      "source": [
        "var = input('Insira seu gênero: ').upper()\n",
        "\n",
        "if var != 'M':\n",
        "  if var !='F':\n",
        "    print('Só entre com \"F\" e \"M\", por favor.') \n",
        "  else:\n",
        "    print('Seu sexo é feminino.')\n",
        "else:\n",
        "  print('Seu sexo é masculino.')"
      ],
      "execution_count": null,
      "outputs": []
    },
    {
      "cell_type": "markdown",
      "metadata": {
        "id": "599y7kwHSiG-"
      },
      "source": [
        "### Exercício 5"
      ]
    },
    {
      "cell_type": "code",
      "metadata": {
        "id": "rHRLPAnzStNe"
      },
      "source": [
        "nota = float(input('Entre com a sua nota: '))\n",
        "\n",
        "if nota >= 0 and nota < 6:\n",
        "  print('Você tirou um F.')\n",
        "elif nota >= 6 and nota < 7:\n",
        "  print('Você tirou um D.')\n",
        "elif nota >= 7 and nota < 8:\n",
        "  print('Você tirou um C.')\n",
        "elif nota >= 8 and nota < 9:\n",
        "  print('Você tirou um B.')\n",
        "elif nota >= 9 and nota <= 10:\n",
        "  print('Você tirou um A.')\n",
        "else:\n",
        "  print('Nota inválida.') "
      ],
      "execution_count": null,
      "outputs": []
    },
    {
      "cell_type": "markdown",
      "metadata": {
        "id": "1VetGmR9xUPv"
      },
      "source": [
        "## Projetos"
      ]
    },
    {
      "cell_type": "markdown",
      "metadata": {
        "id": "4ogNPtaMdZaJ"
      },
      "source": [
        "### Projeto 1"
      ]
    },
    {
      "cell_type": "code",
      "metadata": {
        "id": "TWYIHfIDddqQ"
      },
      "source": [
        "espada = input('Qual é a sua época favorita (medieval ou futurista)? ').lower()\n",
        "\n",
        "if espada != 'medieval':\n",
        "  if espada != 'futurista':\n",
        "    print('Inválido, tente novamente.')\n",
        "  else:\n",
        "    print('Você recebeu um sabre de luz!')\n",
        "else:\n",
        "  print('Você recebeu uma espada!')"
      ],
      "execution_count": null,
      "outputs": []
    },
    {
      "cell_type": "markdown",
      "metadata": {
        "id": "AWU45M-cfwG1"
      },
      "source": [
        "### Projeto 2"
      ]
    },
    {
      "cell_type": "code",
      "metadata": {
        "id": "nYDQ0YOFfu8G"
      },
      "source": [
        "sword = input('Qual espada deseja utilizar (espada ou sabre)? ').lower()\n",
        "\n",
        "if sword == 'espada':\n",
        "  print('Você ainda não matou o chefão!')\n",
        "elif sword == 'sabre' or sword == 'sabre de luz':\n",
        "  print(f'Você derrotou o chefão com o {sword}! Parabéns!')\n",
        "else:\n",
        "  print(f'Ataque novamente, {sword} não vale.')"
      ],
      "execution_count": null,
      "outputs": []
    },
    {
      "cell_type": "markdown",
      "metadata": {
        "id": "yVOjKfGKhxfi"
      },
      "source": [
        "### Projeto 3"
      ]
    },
    {
      "cell_type": "code",
      "metadata": {
        "id": "hHnDuyUYh0nS"
      },
      "source": [
        "sal = float(input('Insira seu salário aqui: '))\n",
        "\n",
        "if sal > 0 and sal < 280:\n",
        "  print(f'Salário antes do reajuste: R${sal:.2f}')\n",
        "  sal = sal*1.2\n",
        "  print(f'Salário após o reajuste de 20%: R${sal:.2f}')\n",
        "elif sal >= 280 and sal < 700:\n",
        "  print(f'Salário antes do reajuste: R${sal:.2f}')\n",
        "  sal = sal*1.15\n",
        "  print(f'Salário após o reajuste de 15%: R${sal:.2f}')\n",
        "elif sal >=700 and sal < 1500:\n",
        "  print(f'Salário antes do reajuste: R${sal:.2f}')\n",
        "  sal = sal*1.10\n",
        "  print(f'Salário após o reajuste de 10%: R${sal:.2f}')\n",
        "elif sal >= 1500:\n",
        "  print(f'Salário antes do reajuste: R${sal:.2f}')\n",
        "  sal = sal*1.05\n",
        "  print(f'Salário após o reajuste de 5%: R${sal:.2f}')\n",
        "else:\n",
        "  print(f'Salário não pode ser abaixo nem igual a 0 reais, escravidão foi abolida.')\n"
      ],
      "execution_count": null,
      "outputs": []
    },
    {
      "cell_type": "markdown",
      "metadata": {
        "id": "XhiqslCFlOdA"
      },
      "source": [
        "### Projeto 4"
      ]
    },
    {
      "cell_type": "code",
      "metadata": {
        "id": "EdD10nfclSb2"
      },
      "source": [
        "cash = int(input('Insira o quanto você pagou: '))\n",
        "pago100 = 0\n",
        "pago50 = 0\n",
        "pago10 = 0\n",
        "pago5 = 0\n",
        "pago1 = 0\n",
        "\n",
        "if cash >= 10 and cash <= 600:\n",
        "  if cash >= 100:\n",
        "    pago100 = cash//100\n",
        "    cash -= pago100*100\n",
        "  if cash >= 50:\n",
        "    pago50 = cash//50\n",
        "    cash -= pago50*50\n",
        "  if cash >= 10:\n",
        "    pago10 = cash//10\n",
        "    cash -= pago10*10\n",
        "  if cash >= 5:\n",
        "    pago5 = cash//5\n",
        "    cash -= pago5*5\n",
        "  if cash >= 1:\n",
        "    pago1 = cash//1\n",
        "    cash -= pago1*1\n",
        "else:\n",
        "  print('Valor inválido.')\n",
        "\n",
        "print(f'Foram utilizadas {pago100} notas de R$100, {pago50} notas de R$50, {pago10} notas de R$10,{pago5} notas de R$5 e {pago1} notas de R$1')"
      ],
      "execution_count": null,
      "outputs": []
    }
  ]
}