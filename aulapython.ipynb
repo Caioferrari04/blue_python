{
  "nbformat": 4,
  "nbformat_minor": 0,
  "metadata": {
    "colab": {
      "name": "aulapython.ipynb",
      "provenance": [],
      "collapsed_sections": [],
      "authorship_tag": "ABX9TyPkuqJ09wLTU9/nl5yUOx1q"
    },
    "kernelspec": {
      "name": "python3",
      "display_name": "Python 3"
    },
    "language_info": {
      "name": "python"
    }
  },
  "cells": [
    {
      "cell_type": "markdown",
      "metadata": {
        "id": "ek8Wfh7w37X7"
      },
      "source": [
        "\n",
        "\n",
        "Aula 4 - python"
      ]
    },
    {
      "cell_type": "markdown",
      "metadata": {
        "id": "pkhaxKs9_r-8"
      },
      "source": [
        "Exercício 1"
      ]
    },
    {
      "cell_type": "code",
      "metadata": {
        "colab": {
          "base_uri": "https://localhost:8080/"
        },
        "id": "7cJMKm5Iv6l7",
        "outputId": "29490a2b-6ccc-411e-d1ed-eb4f95282dde"
      },
      "source": [
        "print('Olá mundo! Esse é o meu primeiro programa')"
      ],
      "execution_count": null,
      "outputs": [
        {
          "output_type": "stream",
          "text": [
            "Olá mundo! Esse é o meu primeiro programa\n"
          ],
          "name": "stdout"
        }
      ]
    },
    {
      "cell_type": "markdown",
      "metadata": {
        "id": "esgrJ0Nr_uzV"
      },
      "source": [
        "Exercício 2"
      ]
    },
    {
      "cell_type": "code",
      "metadata": {
        "colab": {
          "base_uri": "https://localhost:8080/"
        },
        "id": "XmiKcKkpwisz",
        "outputId": "6601cfe1-09b0-42e5-e590-a89003c06a88"
      },
      "source": [
        "print('Caio')\n",
        "print('Rua 123')\n",
        "print('CEP: 2120021-00')\n"
      ],
      "execution_count": null,
      "outputs": [
        {
          "output_type": "stream",
          "text": [
            "Caio\n",
            "Rua 123\n",
            "CEP: 2120021-00\n"
          ],
          "name": "stdout"
        }
      ]
    },
    {
      "cell_type": "markdown",
      "metadata": {
        "id": "s5ZJpn0q_wi7"
      },
      "source": [
        "Exercício 3"
      ]
    },
    {
      "cell_type": "code",
      "metadata": {
        "colab": {
          "base_uri": "https://localhost:8080/"
        },
        "id": "ezMFZ6BEwuJ0",
        "outputId": "243fa194-e525-4cb7-94eb-e4381275432e"
      },
      "source": [
        "nome = input('Digite seu nome')\n",
        "\n",
        "print(f'Olá {nome}!')"
      ],
      "execution_count": null,
      "outputs": [
        {
          "output_type": "stream",
          "text": [
            "Digite seu nomecaio\n",
            "Olá caio!\n"
          ],
          "name": "stdout"
        }
      ]
    },
    {
      "cell_type": "markdown",
      "metadata": {
        "id": "fiEVyGkB_zQM"
      },
      "source": [
        "Exercício 4"
      ]
    },
    {
      "cell_type": "code",
      "metadata": {
        "colab": {
          "base_uri": "https://localhost:8080/"
        },
        "id": "mtzrc6xTxD3r",
        "outputId": "6510f991-bdef-4f29-fbb6-b99bc293324d"
      },
      "source": [
        "n1 = input('Insira o primeiro número:')\n",
        "n2 = input('Insira o segundo número:')\n",
        "\n",
        "soma = int(n1)+int(n2)\n",
        "\n",
        "print(f'A soma de {n1} e {n2} = {soma}')"
      ],
      "execution_count": null,
      "outputs": [
        {
          "output_type": "stream",
          "text": [
            "Insira o primeiro número:2\n",
            "Insira o segundo número:3\n",
            "A soma de 2 e 3 = 5\n"
          ],
          "name": "stdout"
        }
      ]
    },
    {
      "cell_type": "markdown",
      "metadata": {
        "id": "gyxq2abO_1JV"
      },
      "source": [
        "Exercício 5"
      ]
    },
    {
      "cell_type": "code",
      "metadata": {
        "colab": {
          "base_uri": "https://localhost:8080/"
        },
        "id": "T43aFz5ryUso",
        "outputId": "9a883b46-0ca4-4d4d-9c08-6387b6aea3ce"
      },
      "source": [
        "n1 = float(input('Insira a primeira nota:'))\n",
        "n2 = float(input('Insira a segunda nota:'))\n",
        "n3 = float(input('Insira a terceira nota:'))\n",
        "n4 = float(input('Insira a quarta nota:'))\n",
        "\n",
        "media = (n1+n2+n3+n4)/4\n",
        "print(f'A média é: {media:.2f}')"
      ],
      "execution_count": null,
      "outputs": [
        {
          "output_type": "stream",
          "text": [
            "Insira a primeira nota:10\n",
            "Insira a segunda nota:9\n",
            "Insira a terceira nota:8\n",
            "Insira a quarta nota:7\n",
            "A média é: 8.50\n"
          ],
          "name": "stdout"
        }
      ]
    },
    {
      "cell_type": "markdown",
      "metadata": {
        "id": "QhG6unhp_3CL"
      },
      "source": [
        "Exercício 6"
      ]
    },
    {
      "cell_type": "code",
      "metadata": {
        "colab": {
          "base_uri": "https://localhost:8080/"
        },
        "id": "ZyCjquhN2vfc",
        "outputId": "fab5cc2a-e97d-4c7d-f3f0-9134fc39aa03"
      },
      "source": [
        "v1 = float(input('Digite o primeiro valor'))\n",
        "v2 = float(input('Digite o segundo valor'))\n",
        "\n",
        "print(v1 > v2)20"
      ],
      "execution_count": null,
      "outputs": [
        {
          "output_type": "stream",
          "text": [
            "Digite o primeiro valor10\n",
            "Digite o segundo valor20\n",
            "False\n"
          ],
          "name": "stdout"
        }
      ]
    },
    {
      "cell_type": "markdown",
      "metadata": {
        "id": "K7waZhK5_5ET"
      },
      "source": [
        "Exercício 7"
      ]
    },
    {
      "cell_type": "code",
      "metadata": {
        "colab": {
          "base_uri": "https://localhost:8080/"
        },
        "id": "0_hWJcfg3w4-",
        "outputId": "6b606004-dd6a-4b56-8733-74b30ff4b309"
      },
      "source": [
        "frase = 'Os limites só existem se você os deixarem existir.(goku)'\n",
        "\n",
        "print(len(frase))\n",
        "\n",
        "print(frase[50:])"
      ],
      "execution_count": null,
      "outputs": [
        {
          "output_type": "stream",
          "text": [
            "56\n",
            "(goku)\n"
          ],
          "name": "stdout"
        }
      ]
    },
    {
      "cell_type": "markdown",
      "metadata": {
        "id": "ss1NGVBL_7L6"
      },
      "source": [
        "Exercício 8"
      ]
    },
    {
      "cell_type": "code",
      "metadata": {
        "colab": {
          "base_uri": "https://localhost:8080/"
        },
        "id": "9CLw183G4-3b",
        "outputId": "62d866f7-cd6b-4ddc-f703-a5ad9917c4ea"
      },
      "source": [
        "phrase = input('Digite aqui ').upper()\n",
        "\n",
        "print(phrase.replace(' ',''))"
      ],
      "execution_count": null,
      "outputs": [
        {
          "output_type": "stream",
          "text": [
            "Digite aqui Agora vai\n",
            "AGORAVAI\n"
          ],
          "name": "stdout"
        }
      ]
    },
    {
      "cell_type": "markdown",
      "metadata": {
        "id": "ZZqinvbUA_gE"
      },
      "source": [
        "Exercício 9"
      ]
    },
    {
      "cell_type": "code",
      "metadata": {
        "colab": {
          "base_uri": "https://localhost:8080/"
        },
        "id": "azbzUmBVBBL7",
        "outputId": "aed1f786-0f87-42d4-e5e6-922290b0bc36"
      },
      "source": [
        "nome = input('Insira o nome: ').upper()\n",
        "endereco = input('Insira o endereco: ').lower()\n",
        "hobby = input('Insira o seu hobby: ').capitalize()\n",
        "\n",
        "print(nome)\n",
        "print(endereco)\n",
        "print(hobby)"
      ],
      "execution_count": 26,
      "outputs": [
        {
          "output_type": "stream",
          "text": [
            "Insira o nome: Caio\n",
            "Insira o endereco: Endereco\n",
            "Insira o seu hobby: boo\n",
            "CAIO\n",
            "endereco\n",
            "Boo\n"
          ],
          "name": "stdout"
        }
      ]
    },
    {
      "cell_type": "markdown",
      "metadata": {
        "id": "SEcvZ7soB9qL"
      },
      "source": [
        "Projeto - exercicio 1"
      ]
    },
    {
      "cell_type": "code",
      "metadata": {
        "colab": {
          "base_uri": "https://localhost:8080/"
        },
        "id": "CuYzaPehCF-r",
        "outputId": "baf5847c-f898-40ec-d961-2d71f0cdfad5"
      },
      "source": [
        "real = float(input('Insira o valor em real'))\n",
        "\n",
        "resultado = real / 5.75\n",
        "\n",
        "print(f'R${real},é equivalente a ${resultado:.2f}')"
      ],
      "execution_count": 29,
      "outputs": [
        {
          "output_type": "stream",
          "text": [
            "Insira o valor em real10\n",
            "R$10.0,é equivalente a $1.74\n"
          ],
          "name": "stdout"
        }
      ]
    },
    {
      "cell_type": "markdown",
      "metadata": {
        "id": "S23dcdNUEScu"
      },
      "source": [
        "exercicio 1 - parte 2"
      ]
    },
    {
      "cell_type": "code",
      "metadata": {
        "colab": {
          "base_uri": "https://localhost:8080/"
        },
        "id": "hOfwShmHDChL",
        "outputId": "59bd53e4-cbc8-4288-e204-1178db432b5e"
      },
      "source": [
        "real = float(input('Insira o valor em dolar'))\n",
        "\n",
        "resultado = real * 5.75\n",
        "\n",
        "print(f'${real},é equivalente a R${resultado:.2f}')"
      ],
      "execution_count": 30,
      "outputs": [
        {
          "output_type": "stream",
          "text": [
            "Insira o valor em dolar10\n",
            "$10.0,é equivalente a R$57.50\n"
          ],
          "name": "stdout"
        }
      ]
    },
    {
      "cell_type": "markdown",
      "metadata": {
        "id": "xPuRmT7hFMy8"
      },
      "source": [
        "exercicio 2 - parte 1"
      ]
    },
    {
      "cell_type": "code",
      "metadata": {
        "colab": {
          "base_uri": "https://localhost:8080/"
        },
        "id": "B2rxVyy3Ea0z",
        "outputId": "a3e7b245-dbfa-435f-9345-acc127ece90d"
      },
      "source": [
        "aluguel = float(input('Insira o aluguel: '))\n",
        "\n",
        "result = aluguel * 1.31\n",
        "\n",
        "print(f'Aluguel em R${aluguel:.2f} reajustado: R${result:.2f}')"
      ],
      "execution_count": 36,
      "outputs": [
        {
          "output_type": "stream",
          "text": [
            "Insira o aluguel: 1000\n",
            "Aluguel em $1000.00 reajustado: R$1310.00\n"
          ],
          "name": "stdout"
        }
      ]
    },
    {
      "cell_type": "markdown",
      "metadata": {
        "id": "wciCYrOAHcWo"
      },
      "source": [
        "exercício 2 - parte 2"
      ]
    },
    {
      "cell_type": "code",
      "metadata": {
        "colab": {
          "base_uri": "https://localhost:8080/"
        },
        "id": "vu0WLBPtFqtE",
        "outputId": "facfb439-86c0-4452-9a30-b20f74fc3b88"
      },
      "source": [
        "aluguel = float(input('Insira o aluguel: '))\n",
        "porcent = int(input('Insira a porcentagem: '))\n",
        "\n",
        "result = (aluguel*porcent)/100+aluguel\n",
        "\n",
        "print(f'Aluguel em R${aluguel:.2f} reajustado a {porcent}%: R${result:.2f}')"
      ],
      "execution_count": 38,
      "outputs": [
        {
          "output_type": "stream",
          "text": [
            "Insira o aluguel: 100\n",
            "Insira a porcentagem: 20\n",
            "Aluguel em $100.00 reajustado a 20%: R$120.00\n"
          ],
          "name": "stdout"
        }
      ]
    },
    {
      "cell_type": "markdown",
      "metadata": {
        "id": "-oiyrH4IKSNL"
      },
      "source": [
        "Exercício 3 - parte 1"
      ]
    },
    {
      "cell_type": "code",
      "metadata": {
        "colab": {
          "base_uri": "https://localhost:8080/"
        },
        "id": "4oAXA0tFKWLT",
        "outputId": "5d395443-4c63-421d-b36b-52e91ab1a5e3"
      },
      "source": [
        "vmonstro = float(input('Insira os pontos de vida do monstro (10 a 50)'))\n",
        "ataque = float(input('Insira os pontos de ataque (entre 5 e 10)'))\n",
        "i = 0\n",
        "while vmonstro > 0:\n",
        "  i+=1\n",
        "  vmonstro = vmonstro - ataque\n",
        "print(f'Demorará {i} turnos para derrotar o monstro.')"
      ],
      "execution_count": 42,
      "outputs": [
        {
          "output_type": "stream",
          "text": [
            "Insira os pontos de vida do monstro (10 a 50)50\n",
            "Insira os pontos de ataque (entre 5 e 10)10\n",
            "Demorará 5 turnos para derrotar o monstro.\n"
          ],
          "name": "stdout"
        }
      ]
    },
    {
      "cell_type": "markdown",
      "metadata": {
        "id": "ZuT3vCI2Ph7b"
      },
      "source": [
        "Exercicio 3 - parte 2"
      ]
    },
    {
      "cell_type": "code",
      "metadata": {
        "colab": {
          "base_uri": "https://localhost:8080/"
        },
        "id": "pbW_iL1bPkpz",
        "outputId": "69edf0c2-8f7b-4e94-dc04-80bb6ba941a2"
      },
      "source": [
        "import random\n",
        "vmonstro = random.randint(10,50)\n",
        "ataque = float(input('Insira os pontos de ataque (entre 5 e 10) '))\n",
        "\n",
        "i = 0\n",
        "vm = vmonstro\n",
        "\n",
        "while vmonstro > 0:\n",
        "  i+=1\n",
        "  vmonstro = vmonstro - ataque\n",
        "\n",
        "print(f'Demorará {i} turnos para derrotar o monstro, que tem {vm}')"
      ],
      "execution_count": 44,
      "outputs": [
        {
          "output_type": "stream",
          "text": [
            "Insira os pontos de ataque (entre 5 e 10)5\n",
            "Demorará 3 turnos para derrotar o monstro, que tem 15\n"
          ],
          "name": "stdout"
        }
      ]
    }
  ]
}